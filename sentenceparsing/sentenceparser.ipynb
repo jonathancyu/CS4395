{
 "cells": [
  {
   "cell_type": "code",
   "execution_count": 4,
   "id": "866a3552",
   "metadata": {
    "collapsed": true
   },
   "outputs": [
    {
     "name": "stdout",
     "output_type": "stream",
     "text": [
      "Use device: cpu\n",
      "---\n",
      "Loading: tokenize\n",
      "With settings: \n",
      "{'model_path': 'C:\\\\Users\\\\yucjo\\\\stanfordnlp_resources\\\\en_ewt_models\\\\en_ewt_tokenizer.pt', 'lang': 'en', 'shorthand': 'en_ewt', 'mode': 'predict'}\n",
      "---\n",
      "Loading: pos\n",
      "With settings: \n",
      "{'model_path': 'C:\\\\Users\\\\yucjo\\\\stanfordnlp_resources\\\\en_ewt_models\\\\en_ewt_tagger.pt', 'pretrain_path': 'C:\\\\Users\\\\yucjo\\\\stanfordnlp_resources\\\\en_ewt_models\\\\en_ewt.pretrain.pt', 'lang': 'en', 'shorthand': 'en_ewt', 'mode': 'predict'}\n",
      "---\n",
      "Loading: lemma\n",
      "With settings: \n",
      "{'model_path': 'C:\\\\Users\\\\yucjo\\\\stanfordnlp_resources\\\\en_ewt_models\\\\en_ewt_lemmatizer.pt', 'lang': 'en', 'shorthand': 'en_ewt', 'mode': 'predict'}\n",
      "Building an attentional Seq2Seq model...\n",
      "Using a Bi-LSTM encoder\n",
      "Using soft attention for LSTM.\n",
      "Finetune all embeddings.\n",
      "[Running seq2seq lemmatizer with edit classifier]\n",
      "---\n",
      "Loading: depparse\n",
      "With settings: \n",
      "{'model_path': 'C:\\\\Users\\\\yucjo\\\\stanfordnlp_resources\\\\en_ewt_models\\\\en_ewt_parser.pt', 'pretrain_path': 'C:\\\\Users\\\\yucjo\\\\stanfordnlp_resources\\\\en_ewt_models\\\\en_ewt.pretrain.pt', 'lang': 'en', 'shorthand': 'en_ewt', 'mode': 'predict'}\n",
      "Done loading processors!\n",
      "---\n"
     ]
    }
   ],
   "source": [
    "import stanfordnlp as sc\n",
    "nlp = sc.Pipeline()"
   ]
  },
  {
   "cell_type": "code",
   "execution_count": 8,
   "id": "2a16219a",
   "metadata": {},
   "outputs": [
    {
     "name": "stderr",
     "output_type": "stream",
     "text": [
      "c:\\python39\\lib\\site-packages\\stanfordnlp\\models\\depparse\\model.py:157: UserWarning: masked_fill_ received a mask with dtype torch.uint8, this behavior is now deprecated,please use a mask with dtype torch.bool instead. (Triggered internally at  C:\\actions-runner\\_work\\pytorch\\pytorch\\builder\\windows\\pytorch\\aten\\src\\ATen\\native\\TensorAdvancedIndexing.cpp:1582.)\n",
      "  unlabeled_scores.masked_fill_(diag, -float('inf'))\n"
     ]
    }
   ],
   "source": [
    "sentence = \"The president walked around during his speech, asking important questions that didn't always have answers.\"\n",
    "\n",
    "doc = nlp(sentence)"
   ]
  },
  {
   "cell_type": "code",
   "execution_count": 16,
   "id": "b12c5582",
   "metadata": {
    "scrolled": true
   },
   "outputs": [
    {
     "name": "stdout",
     "output_type": "stream",
     "text": [
      "\n",
      "[Sentence 1]\n",
      "0\t('The', '2', 'det')\n",
      "1\t('president', '3', 'nsubj')\n",
      "2\t('walked', '0', 'root')\n",
      "3\t('around', '3', 'advmod')\n",
      "4\t('during', '7', 'case')\n",
      "5\t('his', '7', 'nmod:poss')\n",
      "6\t('speech', '3', 'obl')\n",
      "7\t(',', '3', 'punct')\n",
      "8\t('asking', '3', 'advcl')\n",
      "9\t('important', '11', 'amod')\n",
      "10\t('questions', '9', 'obj')\n",
      "11\t('that', '16', 'nsubj')\n",
      "12\t('did', '16', 'aux')\n",
      "13\t(\"n't\", '16', 'advmod')\n",
      "14\t('always', '16', 'advmod')\n",
      "15\t('have', '11', 'acl:relcl')\n",
      "16\t('answers', '16', 'obj')\n",
      "17\t('.', '3', 'punct')\n"
     ]
    }
   ],
   "source": [
    "for i, sentence in enumerate(doc.sentences):\n",
    "    print('\\n[Sentence {}]'.format(i+1))\n",
    "    i=0\n",
    "    for line in sentence.dependencies_string().split('\\n'):\n",
    "        print(f'{i}\\t{line}')\n",
    "        i+=1\n",
    "    \n",
    "    \n"
   ]
  }
 ],
 "metadata": {
  "kernelspec": {
   "display_name": "Python 3 (ipykernel)",
   "language": "python",
   "name": "python3"
  },
  "language_info": {
   "codemirror_mode": {
    "name": "ipython",
    "version": 3
   },
   "file_extension": ".py",
   "mimetype": "text/x-python",
   "name": "python",
   "nbconvert_exporter": "python",
   "pygments_lexer": "ipython3",
   "version": "3.9.6"
  }
 },
 "nbformat": 4,
 "nbformat_minor": 5
}
