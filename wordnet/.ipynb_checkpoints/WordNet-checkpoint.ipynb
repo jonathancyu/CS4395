{
 "cells": [
  {
   "cell_type": "markdown",
   "id": "53dd8868",
   "metadata": {},
   "source": [
    "# Summary of wordnet"
   ]
  },
  {
   "cell_type": "code",
   "execution_count": 33,
   "id": "39e3d7a8",
   "metadata": {},
   "outputs": [],
   "source": [
    "from nltk.corpus import wordnet as wn"
   ]
  },
  {
   "cell_type": "markdown",
   "id": "f22c0c5f",
   "metadata": {},
   "source": [
    "The following cell gets the synsets of the word \"dog\", selects the synset \"cad.n.01\", then prints its definition, examples, and lemmas."
   ]
  },
  {
   "cell_type": "code",
   "execution_count": 34,
   "id": "58098a34",
   "metadata": {},
   "outputs": [
    {
     "name": "stdout",
     "output_type": "stream",
     "text": [
      "Synset: Synset('good.n.02')\n",
      "Definition: moral excellence or admirableness\n",
      "Examples: ['there is much good to be found in people']\n",
      "Lemmas: [Lemma('good.n.02.good'), Lemma('good.n.02.goodness')]\n"
     ]
    }
   ],
   "source": [
    "synsets = wn.synsets(\"good\")\n",
    "synset = synsets[1]\n",
    "\n",
    "print(f\"Synset: {synset}\")\n",
    "print(f\"Definition: {synset.definition()}\")\n",
    "print(f\"Examples: {synset.examples()}\")\n",
    "print(f\"Lemmas: {synset.lemmas()}\")"
   ]
  },
  {
   "cell_type": "markdown",
   "id": "f9e1e021",
   "metadata": {},
   "source": [
    "The following cell prints the synset's hypernyms, hyponyms, meronyms, holonyms, and antonyms."
   ]
  },
  {
   "cell_type": "code",
   "execution_count": 35,
   "id": "ff46c421",
   "metadata": {},
   "outputs": [
    {
     "name": "stdout",
     "output_type": "stream",
     "text": [
      "Hypernyms: [Synset('morality.n.01')]\n",
      "Hyponyms: [Synset('beneficence.n.02'), Synset('benignity.n.01'), Synset('kindness.n.01'), Synset('saintliness.n.01'), Synset('summum_bonum.n.01'), Synset('virtue.n.01'), Synset('virtue.n.04')]\n",
      "Meronyms: []\n",
      "Holonyms: []\n",
      "Antonyms: [Lemma('evil.n.03.evil'), Lemma('evil.n.03.evilness')]\n"
     ]
    }
   ],
   "source": [
    "print(f\"Hypernyms: {synset.hypernyms()}\")\n",
    "print(f\"Hyponyms: {synset.hyponyms()}\")\n",
    "print(f\"Meronyms: {synset.part_meronyms()}\")\n",
    "print(f\"Holonyms: {synset.part_holonyms()}\")\n",
    "antonyms = []\n",
    "for l in synset.lemmas():\n",
    "    for a in l.antonyms():\n",
    "        antonyms.append(a)\n",
    "print(f\"Antonyms: {antonyms}\")"
   ]
  },
  {
   "cell_type": "markdown",
   "id": "b517932d",
   "metadata": {},
   "source": [
    "The following cell will find the hierarchy of the given verb."
   ]
  },
  {
   "cell_type": "code",
   "execution_count": 41,
   "id": "3aea84d2",
   "metadata": {},
   "outputs": [
    {
     "ename": "TypeError",
     "evalue": "object of type 'Synset' has no len()",
     "output_type": "error",
     "traceback": [
      "\u001b[1;31m---------------------------------------------------------------------------\u001b[0m",
      "\u001b[1;31mTypeError\u001b[0m                                 Traceback (most recent call last)",
      "\u001b[1;32m<ipython-input-41-f54a1d0aab97>\u001b[0m in \u001b[0;36m<module>\u001b[1;34m\u001b[0m\n\u001b[0;32m      1\u001b[0m \u001b[0mverb\u001b[0m \u001b[1;33m=\u001b[0m \u001b[0mwn\u001b[0m\u001b[1;33m.\u001b[0m\u001b[0msynsets\u001b[0m\u001b[1;33m(\u001b[0m\u001b[1;34m\"fasten\"\u001b[0m\u001b[1;33m)\u001b[0m\u001b[1;33m[\u001b[0m\u001b[1;36m0\u001b[0m\u001b[1;33m]\u001b[0m\u001b[1;33m\u001b[0m\u001b[1;33m\u001b[0m\u001b[0m\n\u001b[0;32m      2\u001b[0m \u001b[0mcurrent\u001b[0m \u001b[1;33m=\u001b[0m \u001b[0mverb\u001b[0m\u001b[1;33m\u001b[0m\u001b[1;33m\u001b[0m\u001b[0m\n\u001b[1;32m----> 3\u001b[1;33m \u001b[1;32mwhile\u001b[0m \u001b[0mlen\u001b[0m\u001b[1;33m(\u001b[0m\u001b[0mcurrent\u001b[0m\u001b[1;33m)\u001b[0m \u001b[1;33m>\u001b[0m \u001b[1;36m0\u001b[0m\u001b[1;33m:\u001b[0m\u001b[1;33m\u001b[0m\u001b[1;33m\u001b[0m\u001b[0m\n\u001b[0m\u001b[0;32m      4\u001b[0m         \u001b[0mprint\u001b[0m\u001b[1;33m(\u001b[0m\u001b[0mcurrent\u001b[0m\u001b[1;33m[\u001b[0m\u001b[1;36m0\u001b[0m\u001b[1;33m]\u001b[0m\u001b[1;33m)\u001b[0m\u001b[1;33m\u001b[0m\u001b[1;33m\u001b[0m\u001b[0m\n\u001b[0;32m      5\u001b[0m         \u001b[0mcurrent\u001b[0m \u001b[1;33m=\u001b[0m \u001b[0mcurrent\u001b[0m\u001b[1;33m.\u001b[0m\u001b[0mhypernyms\u001b[0m\u001b[1;33m(\u001b[0m\u001b[1;33m)\u001b[0m\u001b[1;33m\u001b[0m\u001b[1;33m\u001b[0m\u001b[0m\n",
      "\u001b[1;31mTypeError\u001b[0m: object of type 'Synset' has no len()"
     ]
    }
   ],
   "source": [
    "verb = wn.synsets(\"fasten\")\n",
    "current = verb\n",
    "while len(current) > 0:\n",
    "        print(current)\n",
    "        current = current.hypernyms()\n",
    "        "
   ]
  }
 ],
 "metadata": {
  "kernelspec": {
   "display_name": "Python 3",
   "language": "python",
   "name": "python3"
  },
  "language_info": {
   "codemirror_mode": {
    "name": "ipython",
    "version": 3
   },
   "file_extension": ".py",
   "mimetype": "text/x-python",
   "name": "python",
   "nbconvert_exporter": "python",
   "pygments_lexer": "ipython3",
   "version": "3.8.8"
  }
 },
 "nbformat": 4,
 "nbformat_minor": 5
}
