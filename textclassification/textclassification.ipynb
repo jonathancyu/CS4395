{
 "cells": [
  {
   "cell_type": "code",
   "execution_count": null,
   "metadata": {},
   "outputs": [],
   "source": [
    "import tensorflow as tf\n",
    "keras = tf.keras\n",
    "from keras.preprocessing.text import Tokenizer\n",
    "from keras import layers, models\n",
    "\n",
    "from sklearn.preprocessing import LabelEncoder\n",
    "import pickle\n",
    "import numpy as np\n",
    "import pandas as pd\n",
    "\n",
    "np.random.seed(999)"
   ]
  },
  {
   "cell_type": "markdown",
   "metadata": {},
   "source": [
    "# 1 Data\n",
    "For this assignment, I am using the Fake news dataset from Kaggle. The dataset contains articles' titles, text, etc. and contains labels that indicate whether the article is \"fake news\" or not. "
   ]
  },
  {
   "cell_type": "code",
   "execution_count": null,
   "metadata": {},
   "outputs": [],
   "source": [
    "import matplotlib as plt\n",
    "fake = pd.read_csv('data/Fake.csv')\n",
    "true = pd.read_csv('data/True.csv')\n",
    "fake[\"label\"] = 1\n",
    "true[\"label\"] = -1 # Fake news is 1, true news is -1\n",
    "true.head()\n",
    "\n",
    "# Concatenate the dataframes\n",
    "df = pd.concat([fake, true])\n",
    "df[\"full text\"] = df[\"title\"] + df[\"text\"]\n",
    "df.head()"
   ]
  },
  {
   "cell_type": "markdown",
   "metadata": {},
   "source": [
    "# 2 Sequential Model\n",
    "In the following cell, I implement a simple single hidden layer sequential neural network. I tested multiple different vocabulary sizes. The best results were achieved with 100,000 vocabulary words, however the model achieved 100% accuracy with this, which indicates that it is incredibly overfitted. I found that 25,000 was a happy medium."
   ]
  },
  {
   "cell_type": "code",
   "execution_count": null,
   "metadata": {},
   "outputs": [],
   "source": [
    "from sklearn.metrics import accuracy_score, precision_score, recall_score, f1_score\n",
    "\n",
    "def cnn(num_labels = 2, vocab_size = 2000, batch_size = 100, input_column = \"title\"):\n",
    "    i = np.random.rand(len(df)) < 0.8\n",
    "    train = df[i]\n",
    "    test = df[~i]\n",
    "    tokenizer = Tokenizer(num_words=vocab_size)\n",
    "    tokenizer.fit_on_texts(train[input_column])\n",
    "\n",
    "    x_train = tokenizer.texts_to_matrix(train[input_column], mode=\"tfidf\")\n",
    "    x_test = tokenizer.texts_to_matrix(test[input_column], mode=\"tfidf\")\n",
    "\n",
    "    encoder = LabelEncoder()\n",
    "    encoder.fit(train.label)\n",
    "    y_train = encoder.transform(train.label)\n",
    "    y_test = encoder.transform(test.label)\n",
    "    model = models.Sequential()\n",
    "\n",
    "    model.add(layers.Dense(64, input_dim=vocab_size, kernel_initializer=\"normal\", activation=\"relu\"))\n",
    "    model.add(layers.Dense(1, kernel_initializer=\"normal\", activation=\"sigmoid\"))\n",
    "\n",
    "    model.compile(loss=\"binary_crossentropy\",\n",
    "                optimizer=\"adam\",\n",
    "                metrics=[\"accuracy\"])\n",
    "    history = model.fit(x_train, y_train, \n",
    "                    batch_size=batch_size,\n",
    "                    epochs=30,\n",
    "                    verbose=1,\n",
    "                    validation_split=0.1)\n",
    "\n",
    "    pred = model.predict(x_test)\n",
    "    pred_labels = [1 if p>0.5 else 0 for p in pred]\n",
    "    print('accuracy score: ', accuracy_score(y_test, pred_labels))\n",
    "    print('precision score: ', precision_score(y_test, pred_labels))\n",
    "    print('recall score: ', recall_score(y_test, pred_labels))\n",
    "    print('f1 score: ', f1_score(y_test, pred_labels))\n",
    "\n",
    "for vocab_size in [25000]:#[100, 5000, 10000, 25000, 50000, 100000]:\n",
    "    cnn(vocab_size=vocab_size, input_column=\"full text\")\n",
    "                    "
   ]
  },
  {
   "cell_type": "markdown",
   "metadata": {},
   "source": [
    "# 3 Changing Architecture\n",
    "In this section, I implemented both a convolutional neural net and recursive neural net. "
   ]
  },
  {
   "cell_type": "markdown",
   "metadata": {},
   "source": [
    "## Convolutional Neural Net\n",
    "This has SIGNIFICANTLY lower performance than the simple sequential neural net. I believe this is because this text classification task requires the full context of the article, but the convolutions somehow reduce the amount of context given."
   ]
  },
  {
   "cell_type": "code",
   "execution_count": null,
   "metadata": {},
   "outputs": [],
   "source": [
    "num_labels = 2\n",
    "vocab_size = 2000\n",
    "batch_size = 100\n",
    "input_column = \"title\"\n",
    "\n",
    "max_features = 10000\n",
    "\n",
    "i = np.random.rand(len(df)) < 0.8\n",
    "train = df[i]\n",
    "test = df[~i]\n",
    "tokenizer = Tokenizer(num_words=vocab_size)\n",
    "tokenizer.fit_on_texts(train[input_column])\n",
    "\n",
    "x_train = tokenizer.texts_to_matrix(train[input_column], mode=\"tfidf\")\n",
    "x_test = tokenizer.texts_to_matrix(test[input_column], mode=\"tfidf\")\n",
    "\n",
    "encoder = LabelEncoder()\n",
    "encoder.fit(train.label)\n",
    "y_train = encoder.transform(train.label)\n",
    "y_test = encoder.transform(test.label)\n",
    "\n",
    "embedding_dim = 16\n",
    "max_sequence_length = 2000\n",
    "model = models.Sequential([\n",
    "  layers.Embedding(max_features + 1, embedding_dim, input_length=max_sequence_length),\n",
    "  layers.Dropout(0.2),\n",
    "  layers.GlobalAveragePooling1D(),\n",
    "  layers.Dropout(0.2),\n",
    "  layers.Dense(1)\n",
    "])\n",
    "\n",
    "\n",
    "\n",
    "model.compile(loss=\"binary_crossentropy\",\n",
    "            optimizer=\"adam\",\n",
    "            metrics=[\"accuracy\"])\n",
    "history = model.fit(x_train, y_train, \n",
    "                batch_size=batch_size,\n",
    "                epochs=100,\n",
    "                verbose=1,\n",
    "                validation_split=0.1)\n",
    "\n",
    "pred = model.predict(x_test)\n",
    "pred_labels = [1 if p>0.5 else 0 for p in pred]\n",
    "print('accuracy score: ', accuracy_score(y_test, pred_labels))\n",
    "print('precision score: ', precision_score(y_test, pred_labels))\n",
    "print('recall score: ', recall_score(y_test, pred_labels))\n",
    "print('f1 score: ', f1_score(y_test, pred_labels))"
   ]
  },
  {
   "cell_type": "markdown",
   "metadata": {},
   "source": [
    "## Recurrent Neural Network\n",
    "Similar to CNNs, this also has significantly lower performance than the sequential neural net. However, the RNN delivers better accuracy on the test set."
   ]
  },
  {
   "cell_type": "code",
   "execution_count": null,
   "metadata": {},
   "outputs": [],
   "source": [
    "num_labels = 2\n",
    "vocab_size = 2000\n",
    "batch_size = 100\n",
    "input_column = \"title\"\n",
    "\n",
    "max_features = 10000\n",
    "\n",
    "i = np.random.rand(len(df)) < 0.8\n",
    "train = df[i]\n",
    "test = df[~i]\n",
    "tokenizer = Tokenizer(num_words=vocab_size)\n",
    "tokenizer.fit_on_texts(train[input_column])\n",
    "\n",
    "x_train = tokenizer.texts_to_matrix(train[input_column], mode=\"tfidf\")\n",
    "x_test = tokenizer.texts_to_matrix(test[input_column], mode=\"tfidf\")\n",
    "\n",
    "encoder = LabelEncoder()\n",
    "encoder.fit(train.label)\n",
    "y_train = encoder.transform(train.label)\n",
    "y_test = encoder.transform(test.label)\n",
    "\n",
    "embedding_dim = 16\n",
    "max_sequence_length = 2000\n",
    "model = models.Sequential()\n",
    "model.add(layers.Embedding(max_features, 32))\n",
    "model.add(layers.SimpleRNN(32))\n",
    "model.add(layers.Dense(1, activation='sigmoid'))\n",
    "model.summary()\n",
    "\n",
    "\n",
    "model.compile(loss=\"binary_crossentropy\",\n",
    "            optimizer=\"adam\",\n",
    "            metrics=[\"accuracy\"])\n",
    "history = model.fit(x_train, y_train, \n",
    "                batch_size=batch_size,\n",
    "                epochs=100,\n",
    "                verbose=1,\n",
    "                validation_split=0.1)\n",
    "\n",
    "pred = model.predict(x_test)\n",
    "pred_labels = [1 if p>0.5 else 0 for p in pred]\n",
    "print('accuracy score: ', accuracy_score(y_test, pred_labels))\n",
    "print('precision score: ', precision_score(y_test, pred_labels))\n",
    "print('recall score: ', recall_score(y_test, pred_labels))\n",
    "print('f1 score: ', f1_score(y_test, pred_labels))"
   ]
  },
  {
   "cell_type": "markdown",
   "metadata": {},
   "source": [
    "# 4 Different Embedding\n",
    "In this cell, I return to the sequential neural network model and use the Tensorflow embedding instead of the SKLearn LabelEncoder. I did not see much of a difference with respect to performance while switching."
   ]
  },
  {
   "cell_type": "code",
   "execution_count": null,
   "metadata": {},
   "outputs": [],
   "source": [
    "from tensorflow.keras.layers.experimental.preprocessing import TextVectorization\n",
    "\n",
    "\n",
    "\n",
    "i = np.random.rand(len(df)) < 0.8\n",
    "train = df[i]\n",
    "test = df[~i]\n",
    "tokenizer = Tokenizer(num_words=vocab_size)\n",
    "tokenizer.fit_on_texts(train[input_column])\n",
    "\n",
    "\n",
    "vectorizer = TextVectorization(max_tokens=20000, output_sequence_length=200)\n",
    "x_train = vectorizer(np.array([[s] for s in train])).numpy()\n",
    "x_val = vectorizer(np.array([[s] for s in train])).numpy()\n",
    "\n",
    "text_ds = tf.data.Dataset.from_tensor_slices(train).batch(128)\n",
    "vectorizer.adapt(text_ds)\n",
    "y_train = encoder.transform(train.label)\n",
    "y_test = encoder.transform(test.label)\n",
    "model = models.Sequential()\n",
    "\n",
    "model.add(layers.Dense(64, input_dim=vocab_size, kernel_initializer=\"normal\", activation=\"relu\"))\n",
    "model.add(layers.Dense(1, kernel_initializer=\"normal\", activation=\"sigmoid\"))\n",
    "\n",
    "model.compile(loss=\"binary_crossentropy\",\n",
    "            optimizer=\"adam\",\n",
    "            metrics=[\"accuracy\"])\n",
    "history = model.fit(x_train, y_train, \n",
    "                batch_size=batch_size,\n",
    "                epochs=30,\n",
    "                verbose=1,\n",
    "                validation_split=0.1)\n",
    "\n",
    "pred = model.predict(x_test)\n",
    "pred_labels = [1 if p>0.5 else 0 for p in pred]\n",
    "print('accuracy score: ', accuracy_score(y_test, pred_labels))\n",
    "print('precision score: ', precision_score(y_test, pred_labels))\n",
    "print('recall score: ', recall_score(y_test, pred_labels))\n",
    "print('f1 score: ', f1_score(y_test, pred_labels))\n"
   ]
  },
  {
   "cell_type": "markdown",
   "metadata": {},
   "source": [
    "# 5 Analysis\n",
    "From my experiments in this notebook, I have found that a simple sequential neural network is the best for the text classification task I am attempting to perform. I am hesitant to say that, because the 100,000 parameter model clearly exhibited overfitting. The convolutional neural network architecture showed a significant decrease in accuracy, at the cost of significantly higher computational resources. In my experience, the RNN model also costed too much computational power, thus I believe that the sequential neural network is the ideal choice for this task. It trains relatively quickly, has the best results, and can run on my laptop!"
   ]
  }
 ],
 "metadata": {
  "kernelspec": {
   "display_name": "Python 3 (ipykernel)",
   "language": "python",
   "name": "python3"
  },
  "language_info": {
   "codemirror_mode": {
    "name": "ipython",
    "version": 3
   },
   "file_extension": ".py",
   "mimetype": "text/x-python",
   "name": "python",
   "nbconvert_exporter": "python",
   "pygments_lexer": "ipython3",
   "version": "3.9.6"
  },
  "vscode": {
   "interpreter": {
    "hash": "1f1c95c3a4a6565b50e96530553ef7701e00ba34b9d39f48f381e50b5e76bff9"
   }
  }
 },
 "nbformat": 4,
 "nbformat_minor": 2
}
