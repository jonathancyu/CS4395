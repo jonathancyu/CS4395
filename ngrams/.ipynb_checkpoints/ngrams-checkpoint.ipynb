{
 "cells": [
  {
   "cell_type": "code",
   "execution_count": 5,
   "id": "91911251",
   "metadata": {},
   "outputs": [],
   "source": [
    "import pickle\n",
    "from nltk import word_tokenize\n",
    "from nltk.util import ngrams\n",
    "langs = [\"eng\", \"french\", \"italian\"]\n",
    "def problem2(lookup, file):\n",
    "    for line in file.readlines():\n",
    "        unigrams = word_tokenize(line)\n",
    "        bigrams = list(ngrams(line, 2))\n",
    "        p_laplace = [1,1,1]\n",
    "        \n",
    "        for bigram in bigrams:\n",
    "            for i in range(3):     \n",
    "                lang = langs[i]\n",
    "                V = len(lookup[lang][\"uni\"])\n",
    "                n = lookup[lang][\"bi\"][bigram] if bigram in lookup[lang][\"bi\"] else 0\n",
    "                d = lookup[lang][\"uni\"][bigram[0]] if bigram[0] in lookup[lang][\"uni\"] else 0\n",
    "                p_laplace[i] = p_laplace[i] * ((n+1)/(d+V))\n",
    "        \n",
    "        return langs[p_laplace.index(max(p_laplace))]\n",
    "\n",
    "        \n",
    "def main():    \n",
    "    lookup = {}\n",
    "    for lang in langs:\n",
    "        lookup[lang] = {}\n",
    "        for gram in [\"uni\", \"bi\"]:\n",
    "            lookup[lang][gram] = pickle.load(open(f\"{lang}_{gram}_dict.p\", \"rb\"))\n",
    "          \n",
    "main()    "
   ]
  }
 ],
 "metadata": {
  "kernelspec": {
   "display_name": "Python 3",
   "language": "python",
   "name": "python3"
  },
  "language_info": {
   "codemirror_mode": {
    "name": "ipython",
    "version": 3
   },
   "file_extension": ".py",
   "mimetype": "text/x-python",
   "name": "python",
   "nbconvert_exporter": "python",
   "pygments_lexer": "ipython3",
   "version": "3.8.8"
  }
 },
 "nbformat": 4,
 "nbformat_minor": 5
}
